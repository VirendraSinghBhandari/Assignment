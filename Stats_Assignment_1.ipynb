{
 "cells": [
  {
   "cell_type": "code",
   "execution_count": 18,
   "metadata": {},
   "outputs": [
    {
     "name": "stdout",
     "output_type": "stream",
     "text": [
      "Mean 1158.3333333333333\n",
      "Variance 135416.6666666667\n",
      "STD 367.99003609699366\n"
     ]
    }
   ],
   "source": [
    "#Question 1\n",
    "\n",
    "\n",
    "data = [1550, 1700, 900, 850, 1000, 950]\n",
    "\n",
    "def find_mean(data):\n",
    "    return sum(data)/len(data)\n",
    "\n",
    "\n",
    "def find_variance(data):\n",
    "    variance = 0.0\n",
    "    from math import sqrt\n",
    "    \n",
    "    \n",
    "    mean = find_mean(data)\n",
    "    \n",
    "    variance = sum((x - mean)**2 for x in data) / (len(data) - 1)\n",
    "    return variance \n",
    "\n",
    "def cal_std(data):\n",
    "    return  find_variance(data)**0.5\n",
    "\n",
    "\n",
    "print(\"Mean \" + str(find_mean(data)))\n",
    "print(\"Variance \" + str(find_variance(data)))\n",
    "print(\"STD \" + str(cal_std(data)))"
   ]
  },
  {
   "cell_type": "code",
   "execution_count": 19,
   "metadata": {},
   "outputs": [],
   "source": [
    "#Question 2\n",
    "\n",
    "data2 = [3, 21, 98, 203, 17, 9]\n",
    "\n",
    "def find_variance(data2):\n",
    "    variance  = 0.0\n",
    "    \n",
    "    mean = find_mean(data2)\n",
    "    variance = sum((x - mean)**2 for x in data2)/ (len(data2) - 1)\n",
    "    return variance \n",
    "    "
   ]
  },
  {
   "cell_type": "code",
   "execution_count": 20,
   "metadata": {},
   "outputs": [
    {
     "name": "stdout",
     "output_type": "stream",
     "text": [
      "variancde 6219.9\n"
     ]
    }
   ],
   "source": [
    "print(\"variancde \" + str(find_variance(data2)))"
   ]
  },
  {
   "cell_type": "code",
   "execution_count": 34,
   "metadata": {},
   "outputs": [],
   "source": [
    "\n",
    "total_student = 100\n",
    "\n",
    "Pass_in_all_subject = 80\n",
    "\n",
    "Pass_averg = 80 / 100\n"
   ]
  },
  {
   "cell_type": "code",
   "execution_count": 35,
   "metadata": {},
   "outputs": [
    {
     "name": "stdout",
     "output_type": "stream",
     "text": [
      "0.8\n"
     ]
    }
   ],
   "source": [
    "print(Pass_averg)"
   ]
  },
  {
   "cell_type": "code",
   "execution_count": 38,
   "metadata": {},
   "outputs": [],
   "source": [
    "Student_fail_in_one_subject = 20 /100"
   ]
  },
  {
   "cell_type": "code",
   "execution_count": 39,
   "metadata": {},
   "outputs": [
    {
     "name": "stdout",
     "output_type": "stream",
     "text": [
      "0.2\n"
     ]
    }
   ],
   "source": [
    "print(Student_fail_in_one_subject)"
   ]
  },
  {
   "cell_type": "code",
   "execution_count": 40,
   "metadata": {},
   "outputs": [
    {
     "name": "stdout",
     "output_type": "stream",
     "text": [
      "0.1\n"
     ]
    }
   ],
   "source": [
    "Student_fail_in_Two_subject = 10/100\n",
    "print(Student_fail_in_Two_subject)"
   ]
  },
  {
   "cell_type": "code",
   "execution_count": 42,
   "metadata": {},
   "outputs": [],
   "source": [
    "Student_fail_in_Three_subject = 3/100"
   ]
  },
  {
   "cell_type": "code",
   "execution_count": 43,
   "metadata": {},
   "outputs": [
    {
     "name": "stdout",
     "output_type": "stream",
     "text": [
      "0.03\n"
     ]
    }
   ],
   "source": [
    "print(Student_fail_in_Three_subject)"
   ]
  },
  {
   "cell_type": "code",
   "execution_count": 44,
   "metadata": {},
   "outputs": [],
   "source": [
    "fail_distribution = Student_fail_in_one_subject +  Student_fail_in_Two_subject + Student_fail_in_Three_subject"
   ]
  },
  {
   "cell_type": "code",
   "execution_count": 45,
   "metadata": {},
   "outputs": [
    {
     "name": "stdout",
     "output_type": "stream",
     "text": [
      "0.33000000000000007\n"
     ]
    }
   ],
   "source": [
    "print(fail_distribution)"
   ]
  },
  {
   "cell_type": "code",
   "execution_count": null,
   "metadata": {},
   "outputs": [],
   "source": []
  }
 ],
 "metadata": {
  "kernelspec": {
   "display_name": "Python 3",
   "language": "python",
   "name": "python3"
  },
  "language_info": {
   "codemirror_mode": {
    "name": "ipython",
    "version": 3
   },
   "file_extension": ".py",
   "mimetype": "text/x-python",
   "name": "python",
   "nbconvert_exporter": "python",
   "pygments_lexer": "ipython3",
   "version": "3.7.4"
  }
 },
 "nbformat": 4,
 "nbformat_minor": 2
}
