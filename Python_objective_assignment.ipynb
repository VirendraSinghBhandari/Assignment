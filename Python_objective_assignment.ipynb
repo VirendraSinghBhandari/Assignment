{
 "cells": [
  {
   "cell_type": "code",
   "execution_count": 1,
   "metadata": {},
   "outputs": [
    {
     "data": {
      "text/plain": [
       "2"
      ]
     },
     "execution_count": 1,
     "metadata": {},
     "output_type": "execute_result"
    }
   ],
   "source": [
    "#Question 1\n",
    "#We can create a iterator object by using iter() function. This is built in function of python itself. To get value we can use next() function with iter\n",
    "\n",
    "List = [1,2,3,4,5]\n",
    "\n",
    "iter(List)\n",
    "\n",
    "Iterator_object = iter(List)\n",
    "next(Iterator_object)\n",
    "\n",
    "next(Iterator_object)"
   ]
  },
  {
   "cell_type": "code",
   "execution_count": 2,
   "metadata": {},
   "outputs": [
    {
     "name": "stdout",
     "output_type": "stream",
     "text": [
      "1\n",
      "4\n",
      "9\n",
      "16\n",
      "25\n",
      "36\n",
      "49\n",
      "64\n",
      "81\n"
     ]
    }
   ],
   "source": [
    "#Question 2\n",
    "#Yield is works as a generator.\n",
    "\n",
    "def genSquare(n):\n",
    "    for i in range(1,n):\n",
    "        yield i**2\n",
    "\n",
    "for num in genSquare(10):\n",
    "    print(num)\n"
   ]
  },
  {
   "cell_type": "code",
   "execution_count": 3,
   "metadata": {},
   "outputs": [
    {
     "name": "stdout",
     "output_type": "stream",
     "text": [
      "1 9\n"
     ]
    }
   ],
   "source": [
    "#Question 3\n",
    "# The Output of the code is 1 and 9 because we only fetching two value with the help of next() function\n",
    "#Next fucntion provide the value one by one. we only used next() in two time only.\n",
    "\n",
    "mylist = [1,3,6,10]\n",
    "a = (x**2 for x in mylist)\n",
    "print(next(a),next(a))"
   ]
  },
  {
   "cell_type": "code",
   "execution_count": 41,
   "metadata": {},
   "outputs": [
    {
     "name": "stdout",
     "output_type": "stream",
     "text": [
      "8\n"
     ]
    }
   ],
   "source": [
    "#Question 4\n",
    "# To create closure in python we have to following parameters:\n",
    "\n",
    "#1. Nested function \n",
    "#2. Nested function must refer to the value define in enclosing function\n",
    "#2. The closing function must return the nested \n",
    "\n",
    "#Ans is (d)\n",
    "\n",
    "\n",
    "def do_multiplie(num):\n",
    "    def multiplie(num1):\n",
    "        return num*num1\n",
    "    return multiplie\n",
    " \n",
    "num2 = do_multiplie(2)    \n",
    "\n",
    "num4 = do_multiplie(4)\n",
    "\n",
    "print(num2(4))\n"
   ]
  },
  {
   "cell_type": "code",
   "execution_count": null,
   "metadata": {},
   "outputs": [],
   "source": [
    "#Question 5 \n",
    "\n",
    "#The output is 50. This is also a example of closure \n",
    "\n",
    "def Foo(n):\n",
    "    def multiplier(x):\n",
    "        return x*n\n",
    "    return multiplier\n",
    "\n",
    "a = Foo(5)\n",
    "b = Foo(5)\n",
    "\n",
    "print(a(b(2)))"
   ]
  },
  {
   "cell_type": "code",
   "execution_count": null,
   "metadata": {},
   "outputs": [],
   "source": [
    "#Question 6 \n",
    "\n",
    "def make_pretty(func): \n",
    "    def inner():\n",
    "        print(\"I got decorated\")\n",
    "        func()\n",
    "        return inner\n",
    "    \n",
    "def ordinary():\n",
    "    print(\"I am ordinary\")\n",
    "    \n",
    "    \n",
    "pretty = make_pretty(ordinary)\n",
    "pretty()    "
   ]
  },
  {
   "cell_type": "code",
   "execution_count": null,
   "metadata": {},
   "outputs": [],
   "source": [
    "# Question 7\n",
    "#The pythonic way to use getter and sette is @property\n",
    "\n",
    "\n",
    "#Property is inbuilt decorator to change any class method and attribute without effecting  the clientside code\n",
    "\n",
    "#1 allow to use class method as attribute\n",
    "\n",
    "#2 use setter getter and delet fucntion under property decorator\n",
    "#Withut using @property decorator\n",
    "class student:\n",
    "    def __init__(self,name,grade):\n",
    "        self.name = name\n",
    "        self.grade = grade\n",
    "        \n",
    "    def msg(self):\n",
    "            return self.name + \"got grade\" +  self.grade\n",
    "        \n",
    "        \n",
    "student1 = student(\"viru\", \"A\")\n",
    "student1.grade = \"B\"\n",
    "print(\"name\",student1.name)\n",
    "print(\"grade\",student1.grade)\n",
    "print(student1.msg)"
   ]
  },
  {
   "cell_type": "code",
   "execution_count": null,
   "metadata": {},
   "outputs": [],
   "source": [
    "#With using @property decorator\n",
    "\n",
    "class student:\n",
    "    def __init__(self,name,grade):\n",
    "        self.name = name\n",
    "        self.grade = grade\n",
    "    @property\n",
    "    def msg(self):#if we do not use @property decorator. it will show the object location\n",
    "        return self.name + \" \"+ self.grade\n",
    "stud1 = student(\"Virendra\", \"C\")\n",
    "stud1.grade = \"B\"\n",
    "print(\"name\",stud1.name)\n",
    "print(\"grade\",stud1.grade)\n",
    "print(stud1.msg)\n"
   ]
  },
  {
   "cell_type": "code",
   "execution_count": null,
   "metadata": {},
   "outputs": [],
   "source": [
    "#Question 8 \n",
    "\n",
    "#Property has 3 method\n",
    "\n",
    "#1. Getter()\n",
    "#2. Setter()\n",
    "#3. delete()\n"
   ]
  },
  {
   "cell_type": "code",
   "execution_count": null,
   "metadata": {},
   "outputs": [],
   "source": [
    "#Question 9 \n",
    "\n",
    "#Ans is (d)\n",
    "\n",
    "#Non of them"
   ]
  },
  {
   "cell_type": "code",
   "execution_count": null,
   "metadata": {},
   "outputs": [],
   "source": [
    "#Question 10\n",
    "#Ans is (A) Print Hello() is a function, and a is a variable. None of them are objects.\n",
    "def printhello():\n",
    "    print(\"hello\")\n",
    "\n",
    "a = printhello()    "
   ]
  },
  {
   "cell_type": "code",
   "execution_count": null,
   "metadata": {},
   "outputs": [],
   "source": [
    "#Question 11 \n",
    "\n",
    "#The output is a = 20\n",
    "\n",
    "\n"
   ]
  },
  {
   "cell_type": "code",
   "execution_count": null,
   "metadata": {},
   "outputs": [],
   "source": [
    "#Question 12\n",
    "\n",
    "#Ans is (C) A class is the blueprint for the object and we can make single object from the given class\n"
   ]
  },
  {
   "cell_type": "code",
   "execution_count": null,
   "metadata": {},
   "outputs": [],
   "source": [
    "#Question 13\n",
    "# Ans is (C) The output of the given code will be \"Java\"\n",
    "    "
   ]
  },
  {
   "cell_type": "code",
   "execution_count": null,
   "metadata": {},
   "outputs": [],
   "source": [
    "#Question 14 \n",
    "\n",
    "#Asn is (C) __init__ is function is as a constructor, it allows a class to initilize the attrubute of the class"
   ]
  },
  {
   "cell_type": "code",
   "execution_count": null,
   "metadata": {},
   "outputs": [],
   "source": [
    "#Question 15\n",
    "\n",
    "#Ans is (B) Output of the given code will be 1 1.\n",
    "\n"
   ]
  },
  {
   "cell_type": "code",
   "execution_count": null,
   "metadata": {},
   "outputs": [],
   "source": [
    "#Question 16\n",
    "\n",
    "#Ans is (C) Inheritance class is c.\n",
    "\n",
    "Class Foo:\n",
    "    pass\n",
    "Class Hoo(Foo):\n",
    "    pass\n",
    "\n"
   ]
  },
  {
   "cell_type": "code",
   "execution_count": null,
   "metadata": {},
   "outputs": [],
   "source": [
    "#Question 17\n",
    "\n",
    "#Ans is (B)\n",
    "\n",
    "#When a class is derived from two different classes, it’s called multiple inheritance\n"
   ]
  },
  {
   "cell_type": "code",
   "execution_count": null,
   "metadata": {},
   "outputs": [],
   "source": [
    "#Question 18\n",
    "\n",
    "#Ans is (D) We have facility in python to change default behavior of an operator called \"operator overloading\"."
   ]
  },
  {
   "cell_type": "code",
   "execution_count": null,
   "metadata": {},
   "outputs": [],
   "source": [
    "#Question 19\n",
    "\n",
    "#Ans is (B) Output will be 4 6. "
   ]
  },
  {
   "cell_type": "code",
   "execution_count": null,
   "metadata": {},
   "outputs": [],
   "source": [
    "#Question 20 \n",
    "\n",
    "#Ans is (c)\n",
    "\n",
    "a: opens the file for appending, at the end of fil."
   ]
  },
  {
   "cell_type": "code",
   "execution_count": null,
   "metadata": {},
   "outputs": [],
   "source": [
    "#Question 21\n",
    "\n",
    "#Ans is (b)"
   ]
  },
  {
   "cell_type": "code",
   "execution_count": null,
   "metadata": {},
   "outputs": [],
   "source": [
    "#Question 22\n",
    "\n",
    "#Ans is (C) none of above "
   ]
  },
  {
   "cell_type": "code",
   "execution_count": null,
   "metadata": {},
   "outputs": [],
   "source": [
    "#Question 23\n",
    "\n",
    "#Ans is (d) All of above "
   ]
  },
  {
   "cell_type": "code",
   "execution_count": null,
   "metadata": {},
   "outputs": [],
   "source": [
    "#Question 24\n",
    "\n",
    "#Ans is (c) Print all the directories and files inside the given directory\n"
   ]
  },
  {
   "cell_type": "code",
   "execution_count": null,
   "metadata": {},
   "outputs": [],
   "source": [
    "#Question 25\n",
    "\n",
    "#Ans is (d) all of the above"
   ]
  },
  {
   "cell_type": "code",
   "execution_count": null,
   "metadata": {},
   "outputs": [],
   "source": [
    "#Question 26\n",
    "\n",
    "#Ans is (c) An exception is raised. "
   ]
  },
  {
   "cell_type": "code",
   "execution_count": null,
   "metadata": {},
   "outputs": [],
   "source": [
    "#Question 27\n",
    "\n",
    "#Ans is (b) Output will be 2.0\n",
    "\n"
   ]
  },
  {
   "cell_type": "code",
   "execution_count": null,
   "metadata": {},
   "outputs": [],
   "source": [
    "#Question 28 \n",
    "\n",
    "#Ans is (c)"
   ]
  },
  {
   "cell_type": "code",
   "execution_count": null,
   "metadata": {},
   "outputs": [],
   "source": [
    "#Question 29\n",
    "\n",
    "#Ans is (a)\n",
    "\n",
    "#(b) is also right, we can create our user defined exception wtih the help of class"
   ]
  },
  {
   "cell_type": "code",
   "execution_count": null,
   "metadata": {},
   "outputs": [],
   "source": [
    "#Question 30\n",
    "#Ans is (d)"
   ]
  },
  {
   "cell_type": "code",
   "execution_count": null,
   "metadata": {},
   "outputs": [],
   "source": [
    "#Question 31\n",
    "\n",
    "#Ans is (b) Output will be \"Python is awesome\"\n",
    "\n"
   ]
  },
  {
   "cell_type": "code",
   "execution_count": null,
   "metadata": {},
   "outputs": [],
   "source": [
    "#Question 32\n",
    "\n",
    "#Ans is (b)\n",
    "\n",
    "#Nothing will be print there\n",
    "            "
   ]
  },
  {
   "cell_type": "code",
   "execution_count": null,
   "metadata": {},
   "outputs": [],
   "source": [
    "#Question 33\n",
    "\n",
    "#Ans is (b) Hello ('Frodo', 'Sauron')\n"
   ]
  },
  {
   "cell_type": "code",
   "execution_count": null,
   "metadata": {},
   "outputs": [],
   "source": [
    "#Question 34\n",
    "\n",
    "#Ans is (b)"
   ]
  },
  {
   "cell_type": "code",
   "execution_count": null,
   "metadata": {},
   "outputs": [],
   "source": [
    "#Question 35\n",
    "\n",
    "#Ans is (c)"
   ]
  },
  {
   "cell_type": "code",
   "execution_count": null,
   "metadata": {},
   "outputs": [],
   "source": [
    "#Question 36 \n",
    "\n",
    "#Ans will be (A) Output will be 10\n",
    "\n"
   ]
  },
  {
   "cell_type": "code",
   "execution_count": null,
   "metadata": {},
   "outputs": [],
   "source": [
    "#Question 37 \n",
    "\n",
    "#Ans is (c) from math import  pi \n",
    "\n",
    "\n"
   ]
  },
  {
   "cell_type": "code",
   "execution_count": null,
   "metadata": {},
   "outputs": [],
   "source": [
    "#Question 38\n",
    "\n",
    "#Ans is (a) dot operator (.)"
   ]
  },
  {
   "cell_type": "code",
   "execution_count": null,
   "metadata": {},
   "outputs": [],
   "source": [
    "#Question 39\n",
    "\n",
    "#Ans is (b). It will convert the list simply to tuple \n",
    "\n"
   ]
  },
  {
   "cell_type": "code",
   "execution_count": null,
   "metadata": {},
   "outputs": [],
   "source": [
    "#Question 40\n",
    "#Ans is (c) Nothing will be printed\n",
    "\n"
   ]
  },
  {
   "cell_type": "code",
   "execution_count": null,
   "metadata": {},
   "outputs": [],
   "source": [
    "#Question 41\n",
    "\n",
    "#Ans is (c)"
   ]
  },
  {
   "cell_type": "code",
   "execution_count": null,
   "metadata": {},
   "outputs": [],
   "source": [
    "#Question 42\n",
    "\n",
    "#Ans is (a) \n",
    "\n"
   ]
  },
  {
   "cell_type": "code",
   "execution_count": null,
   "metadata": {},
   "outputs": [],
   "source": [
    "#Question 43\n",
    "\n",
    "#Ans is (c) Yes Both loop has optional else statement"
   ]
  },
  {
   "cell_type": "code",
   "execution_count": null,
   "metadata": {},
   "outputs": [],
   "source": [
    "#Question 44\n",
    "\n",
    "#Ans is (b)\n",
    "\n"
   ]
  },
  {
   "cell_type": "code",
   "execution_count": null,
   "metadata": {},
   "outputs": [],
   "source": [
    "#Question 45\n",
    "\n",
    "#Ans is (c)"
   ]
  },
  {
   "cell_type": "code",
   "execution_count": null,
   "metadata": {},
   "outputs": [],
   "source": [
    "#Question 46\n",
    "\n",
    "#Ans is (b)"
   ]
  },
  {
   "cell_type": "code",
   "execution_count": null,
   "metadata": {},
   "outputs": [],
   "source": [
    "#Question 47\n",
    "\n",
    "#Ans is (d)"
   ]
  },
  {
   "cell_type": "code",
   "execution_count": null,
   "metadata": {},
   "outputs": [],
   "source": [
    "#Question 48\n",
    "\n",
    "#Ans is (A) Output will be PYTHON"
   ]
  },
  {
   "cell_type": "code",
   "execution_count": null,
   "metadata": {},
   "outputs": [],
   "source": [
    "#Question 49\n",
    "\n",
    "#Ans is (c) Pass is a inbuilt function used as s placeholder for the future implementation of loops or function "
   ]
  },
  {
   "cell_type": "code",
   "execution_count": null,
   "metadata": {},
   "outputs": [],
   "source": [
    "#Question 50\n",
    "\n",
    "#Ans is (c). In .csv and .tsv file separated by column and delimeter is comma (,) and tab (\\t)"
   ]
  },
  {
   "cell_type": "code",
   "execution_count": null,
   "metadata": {},
   "outputs": [],
   "source": [
    "#Question 51\n",
    "\n",
    "#Ans is (a)"
   ]
  },
  {
   "cell_type": "code",
   "execution_count": null,
   "metadata": {},
   "outputs": [],
   "source": [
    "#Question 52\n",
    "\n",
    "#Ans is (b) To read a file with csv module syntax will be csv.reader(my_data, delimeter = \"\\t\")\n"
   ]
  },
  {
   "cell_type": "code",
   "execution_count": 11,
   "metadata": {},
   "outputs": [],
   "source": [
    "#Question 53\n",
    "\n",
    "#Ans is (d)\n",
    "\n",
    "\n"
   ]
  },
  {
   "cell_type": "code",
   "execution_count": null,
   "metadata": {},
   "outputs": [],
   "source": [
    "#Question 54\n",
    "\n",
    "#Ans is (c)\n"
   ]
  },
  {
   "cell_type": "code",
   "execution_count": null,
   "metadata": {},
   "outputs": [],
   "source": [
    "#Question 55\n",
    "\n",
    "#Ans is (c) "
   ]
  },
  {
   "cell_type": "code",
   "execution_count": 31,
   "metadata": {},
   "outputs": [],
   "source": [
    "#Question 56\n",
    "\n",
    "#Ans is (a)\n",
    "\n"
   ]
  },
  {
   "cell_type": "code",
   "execution_count": 50,
   "metadata": {},
   "outputs": [],
   "source": [
    "#Question  57\n",
    "\n",
    "#Ans is (b)\n",
    "\n",
    "\n",
    "# Open a txt file is defalut in reading mode. we can just give file name without specefic operation\n"
   ]
  },
  {
   "cell_type": "code",
   "execution_count": 24,
   "metadata": {},
   "outputs": [],
   "source": [
    "#Question 58\n",
    "\n",
    "import pandas as pd\n",
    "\n",
    "\n",
    "import json as json\n",
    "\n",
    "\n",
    "Animals = '''{\"feline\": [\"lion.gif\", \"tiger.gif\"],\n",
    "          \"ursine\": \"bears.gif\",\n",
    "          \"animal.csv\": \"null\"}'''"
   ]
  },
  {
   "cell_type": "code",
   "execution_count": 22,
   "metadata": {},
   "outputs": [],
   "source": [
    "my_data = json.loads(Animals)"
   ]
  },
  {
   "cell_type": "code",
   "execution_count": 23,
   "metadata": {},
   "outputs": [
    {
     "name": "stdout",
     "output_type": "stream",
     "text": [
      "{'feline': ['lion.gif', 'tiger.gif'], 'ursine': 'bears.gif', 'animal.csv': 'null'}\n"
     ]
    }
   ],
   "source": [
    "print(my_data)"
   ]
  },
  {
   "cell_type": "code",
   "execution_count": 35,
   "metadata": {},
   "outputs": [
    {
     "name": "stdout",
     "output_type": "stream",
     "text": [
      "['lion.gif', 'tiger.gif']\n"
     ]
    }
   ],
   "source": [
    "#Question 58\n",
    "\n",
    "#Ans is \n",
    "print(my_data[\"feline\"])"
   ]
  },
  {
   "cell_type": "code",
   "execution_count": null,
   "metadata": {},
   "outputs": [],
   "source": [
    "#Question 59\n",
    "\n",
    "#And is open('jack_resulle.png','wb') and open('jack_resulle.png','rb')"
   ]
  },
  {
   "cell_type": "code",
   "execution_count": 36,
   "metadata": {},
   "outputs": [
    {
     "name": "stdout",
     "output_type": "stream",
     "text": [
      "bears.gif\n"
     ]
    }
   ],
   "source": [
    "#Question 60\n",
    "\n",
    "print(my_data[\"ursine\"])"
   ]
  },
  {
   "cell_type": "code",
   "execution_count": null,
   "metadata": {},
   "outputs": [],
   "source": [
    "#Question 61\n",
    "\n",
    "#Ans is (a)"
   ]
  },
  {
   "cell_type": "code",
   "execution_count": 38,
   "metadata": {},
   "outputs": [
    {
     "name": "stdout",
     "output_type": "stream",
     "text": [
      "bears.gif\n"
     ]
    }
   ],
   "source": [
    "#Question 62\n",
    "\n",
    "print(my_data[\"ursine\"])"
   ]
  },
  {
   "cell_type": "code",
   "execution_count": 1,
   "metadata": {},
   "outputs": [],
   "source": [
    "#Question 63 \n",
    "\n",
    "#Ans is (b) we can read file with .read()"
   ]
  },
  {
   "cell_type": "code",
   "execution_count": null,
   "metadata": {},
   "outputs": [],
   "source": [
    "#Question 64\n",
    "\n",
    "#Ans is (a)  1.8"
   ]
  },
  {
   "cell_type": "code",
   "execution_count": null,
   "metadata": {},
   "outputs": [],
   "source": [
    "#Question 65\n",
    "\n",
    "#Ans is (a) -2.96"
   ]
  },
  {
   "cell_type": "code",
   "execution_count": null,
   "metadata": {},
   "outputs": [],
   "source": [
    "#Qurstion 66\n",
    "\n",
    "\n",
    "#Ans is ...........(a)"
   ]
  },
  {
   "cell_type": "code",
   "execution_count": null,
   "metadata": {},
   "outputs": [],
   "source": [
    "#Question 67\n",
    "\n",
    "#Ans is (a) -0.05"
   ]
  },
  {
   "cell_type": "code",
   "execution_count": 11,
   "metadata": {},
   "outputs": [],
   "source": [
    "#Question 68\n",
    "\n",
    "#Ans is (c)"
   ]
  },
  {
   "cell_type": "code",
   "execution_count": null,
   "metadata": {},
   "outputs": [],
   "source": [
    "#Question 69\n",
    "\n",
    "#Ans is (a)"
   ]
  },
  {
   "cell_type": "code",
   "execution_count": null,
   "metadata": {},
   "outputs": [],
   "source": [
    "#Question 70\n",
    "\n",
    "#Ans is (a) diamond problem arises"
   ]
  },
  {
   "cell_type": "code",
   "execution_count": null,
   "metadata": {},
   "outputs": [],
   "source": [
    "#Question 71\n",
    "\n",
    "#Ans is (c) At least 3 class.. if there is less then 3 then it will become single level inheritance "
   ]
  },
  {
   "cell_type": "code",
   "execution_count": null,
   "metadata": {},
   "outputs": [],
   "source": [
    "#Question 72\n",
    "\n",
    "#Ans is (b) The class which inherited first, constructor of that class will be called first "
   ]
  },
  {
   "cell_type": "code",
   "execution_count": null,
   "metadata": {},
   "outputs": [],
   "source": [
    "#Question 73\n",
    "\n",
    "#Ans is (a) "
   ]
  },
  {
   "cell_type": "code",
   "execution_count": null,
   "metadata": {},
   "outputs": [],
   "source": [
    "#Question 74\n",
    "\n",
    "#Ans is (d)"
   ]
  },
  {
   "cell_type": "code",
   "execution_count": null,
   "metadata": {},
   "outputs": [],
   "source": [
    "#Question 75\n",
    "\n",
    "#Ans is (d)"
   ]
  },
  {
   "cell_type": "code",
   "execution_count": null,
   "metadata": {},
   "outputs": [],
   "source": [
    "#Question 76\n",
    "\n",
    "#Ans is (a)"
   ]
  },
  {
   "cell_type": "code",
   "execution_count": null,
   "metadata": {},
   "outputs": [],
   "source": [
    "#Quesrion 77 \n",
    "\n",
    "#Ans is (a)"
   ]
  },
  {
   "cell_type": "code",
   "execution_count": null,
   "metadata": {},
   "outputs": [],
   "source": [
    "#Question 78\n",
    "\n",
    "#Ans is (d)"
   ]
  },
  {
   "cell_type": "code",
   "execution_count": null,
   "metadata": {},
   "outputs": [],
   "source": [
    "#Question 79 \n",
    "\n",
    "#Ans is (b)"
   ]
  },
  {
   "cell_type": "code",
   "execution_count": null,
   "metadata": {},
   "outputs": [],
   "source": [
    "#Question 80\n",
    "\n",
    "#ANs is (d)"
   ]
  },
  {
   "cell_type": "code",
   "execution_count": null,
   "metadata": {},
   "outputs": [],
   "source": [
    "#Queastion 81\n",
    "\n",
    "#Ans is (c) "
   ]
  },
  {
   "cell_type": "code",
   "execution_count": null,
   "metadata": {},
   "outputs": [],
   "source": [
    "#Question 82\n",
    "\n",
    "#Ans is (a)"
   ]
  },
  {
   "cell_type": "code",
   "execution_count": null,
   "metadata": {},
   "outputs": [],
   "source": [
    "#Quesrion 83\n",
    "\n",
    "#Ans is (a)"
   ]
  },
  {
   "cell_type": "code",
   "execution_count": null,
   "metadata": {},
   "outputs": [],
   "source": [
    "#Question 84\n",
    "\n",
    "#Ans is (c)"
   ]
  },
  {
   "cell_type": "code",
   "execution_count": null,
   "metadata": {},
   "outputs": [],
   "source": [
    "#Question 85\n",
    "\n",
    "#Ans is (c)"
   ]
  },
  {
   "cell_type": "code",
   "execution_count": null,
   "metadata": {},
   "outputs": [],
   "source": [
    "#Question 86\n",
    "\n",
    "#Ans is (a)"
   ]
  },
  {
   "cell_type": "code",
   "execution_count": null,
   "metadata": {},
   "outputs": [],
   "source": [
    "#Question 87\n",
    "\n",
    "#Ans is (b)"
   ]
  },
  {
   "cell_type": "code",
   "execution_count": null,
   "metadata": {},
   "outputs": [],
   "source": [
    "#Question 88\n",
    "\n",
    "#Ans (d)"
   ]
  },
  {
   "cell_type": "code",
   "execution_count": null,
   "metadata": {},
   "outputs": [],
   "source": [
    "#Question 89\n",
    "\n",
    "#Ans is (c)"
   ]
  },
  {
   "cell_type": "code",
   "execution_count": null,
   "metadata": {},
   "outputs": [],
   "source": [
    "#Question 90\n",
    "\n",
    "#Ans is (c)"
   ]
  },
  {
   "cell_type": "code",
   "execution_count": null,
   "metadata": {},
   "outputs": [],
   "source": [
    "#Question 91 \n",
    "\n",
    "#Ans is (b)"
   ]
  },
  {
   "cell_type": "code",
   "execution_count": null,
   "metadata": {},
   "outputs": [],
   "source": [
    "#Question 92\n",
    "\n",
    "#Ans is (c)"
   ]
  },
  {
   "cell_type": "code",
   "execution_count": null,
   "metadata": {},
   "outputs": [],
   "source": [
    "#Question 93\n",
    "\n",
    "#Ans is (d)"
   ]
  },
  {
   "cell_type": "code",
   "execution_count": null,
   "metadata": {},
   "outputs": [],
   "source": [
    "#Question 94\n",
    "\n",
    "#Ans is (d)"
   ]
  },
  {
   "cell_type": "code",
   "execution_count": null,
   "metadata": {},
   "outputs": [],
   "source": [
    "#Question 95\n",
    "\n",
    "#Ans is (b)"
   ]
  },
  {
   "cell_type": "code",
   "execution_count": null,
   "metadata": {},
   "outputs": [],
   "source": [
    "#Question 96\n",
    "\n",
    "#Ans is (d)"
   ]
  },
  {
   "cell_type": "code",
   "execution_count": null,
   "metadata": {},
   "outputs": [],
   "source": [
    "#Question 97\n",
    "\n",
    "#Ans is (c)"
   ]
  },
  {
   "cell_type": "code",
   "execution_count": null,
   "metadata": {},
   "outputs": [],
   "source": [
    "#Quetion 98\n",
    "\n",
    "#Ans is (c)"
   ]
  },
  {
   "cell_type": "code",
   "execution_count": null,
   "metadata": {},
   "outputs": [],
   "source": [
    "#Question 99\n",
    "\n",
    "#Ans is (b)"
   ]
  },
  {
   "cell_type": "code",
   "execution_count": null,
   "metadata": {},
   "outputs": [],
   "source": [
    "#Question 100\n",
    "\n",
    "#Ans is (a)"
   ]
  },
  {
   "cell_type": "code",
   "execution_count": null,
   "metadata": {},
   "outputs": [],
   "source": [
    "#Question 1001\n",
    "\n",
    "#Ans is (c)"
   ]
  },
  {
   "cell_type": "code",
   "execution_count": null,
   "metadata": {},
   "outputs": [],
   "source": [
    "#Question 102\n",
    "\n",
    "#Ans is (a)"
   ]
  },
  {
   "cell_type": "code",
   "execution_count": null,
   "metadata": {},
   "outputs": [],
   "source": [
    "#Question 103\n",
    "\n",
    "#Ans is (a)\n"
   ]
  },
  {
   "cell_type": "code",
   "execution_count": null,
   "metadata": {},
   "outputs": [],
   "source": [
    "#Question 104\n",
    "\n",
    "#Ans is (d)"
   ]
  },
  {
   "cell_type": "code",
   "execution_count": null,
   "metadata": {},
   "outputs": [],
   "source": [
    "#Questi0n 105\n",
    "\n",
    "#Ans is (b)"
   ]
  },
  {
   "cell_type": "code",
   "execution_count": null,
   "metadata": {},
   "outputs": [],
   "source": [
    "#Question 106\n",
    "\n",
    "#Ans is (a)"
   ]
  },
  {
   "cell_type": "code",
   "execution_count": null,
   "metadata": {},
   "outputs": [],
   "source": [
    "#Question 107\n",
    "\n",
    "#Ans is (a)"
   ]
  },
  {
   "cell_type": "code",
   "execution_count": null,
   "metadata": {},
   "outputs": [],
   "source": [
    "#Question 108\n",
    "\n",
    "#Ans is (b)"
   ]
  },
  {
   "cell_type": "code",
   "execution_count": null,
   "metadata": {},
   "outputs": [],
   "source": [
    "#Question 109\n",
    "\n",
    "#Ans is (a)"
   ]
  },
  {
   "cell_type": "code",
   "execution_count": null,
   "metadata": {},
   "outputs": [],
   "source": [
    "#Question 110\n",
    "\n",
    "#Ans is (d)"
   ]
  },
  {
   "cell_type": "code",
   "execution_count": null,
   "metadata": {},
   "outputs": [],
   "source": [
    "#Question 111\n",
    "\n",
    "#Ans is (c)"
   ]
  },
  {
   "cell_type": "code",
   "execution_count": null,
   "metadata": {},
   "outputs": [],
   "source": [
    "#Question 112\n",
    "\n",
    "\n",
    "#Ans us (b)"
   ]
  },
  {
   "cell_type": "code",
   "execution_count": null,
   "metadata": {},
   "outputs": [],
   "source": [
    "#Question 113\n",
    "\n",
    "#Ans is (a)"
   ]
  },
  {
   "cell_type": "code",
   "execution_count": null,
   "metadata": {},
   "outputs": [],
   "source": [
    "#Question 114\n",
    "\n",
    "\n",
    "#Ans is (b)"
   ]
  },
  {
   "cell_type": "code",
   "execution_count": null,
   "metadata": {},
   "outputs": [],
   "source": [
    "#Question 115\n",
    "\n",
    "#Ans is (c)"
   ]
  },
  {
   "cell_type": "code",
   "execution_count": null,
   "metadata": {},
   "outputs": [],
   "source": [
    "#Question 116\n",
    "\n",
    "#Ans is (b)"
   ]
  },
  {
   "cell_type": "code",
   "execution_count": null,
   "metadata": {},
   "outputs": [],
   "source": [
    "#Question 117\n",
    "\n",
    "#Ans is (b)"
   ]
  },
  {
   "cell_type": "code",
   "execution_count": null,
   "metadata": {},
   "outputs": [],
   "source": [
    "#Question 118\n",
    "\n",
    "#Ans is (c)"
   ]
  },
  {
   "cell_type": "code",
   "execution_count": null,
   "metadata": {},
   "outputs": [],
   "source": [
    "#Question 119\n",
    "\n",
    "#Ans is (a)"
   ]
  },
  {
   "cell_type": "code",
   "execution_count": null,
   "metadata": {},
   "outputs": [],
   "source": [
    "#Question 120\n",
    "\n",
    "#Ans is (a)"
   ]
  },
  {
   "cell_type": "code",
   "execution_count": null,
   "metadata": {},
   "outputs": [],
   "source": [
    "#Question 121\n",
    "\n",
    "#Ans is (c)"
   ]
  },
  {
   "cell_type": "code",
   "execution_count": null,
   "metadata": {},
   "outputs": [],
   "source": [
    "#Question 122\n",
    "\n",
    "#Ans is (d)"
   ]
  },
  {
   "cell_type": "code",
   "execution_count": null,
   "metadata": {},
   "outputs": [],
   "source": [
    "#Question 123\n",
    "\n",
    "#Ans is (a)"
   ]
  },
  {
   "cell_type": "code",
   "execution_count": null,
   "metadata": {},
   "outputs": [],
   "source": [
    "#Question 124\n",
    "\n",
    "#Ans is (a)"
   ]
  },
  {
   "cell_type": "code",
   "execution_count": null,
   "metadata": {},
   "outputs": [],
   "source": [
    "#Questkon 125\n",
    "\n",
    "#Ans is (c)"
   ]
  },
  {
   "cell_type": "code",
   "execution_count": null,
   "metadata": {},
   "outputs": [],
   "source": [
    "#Question 126\n",
    "\n",
    "#Ans is (a)"
   ]
  },
  {
   "cell_type": "code",
   "execution_count": null,
   "metadata": {},
   "outputs": [],
   "source": [
    "#Question 127\n",
    "\n",
    "#Ans is (b)"
   ]
  },
  {
   "cell_type": "code",
   "execution_count": null,
   "metadata": {},
   "outputs": [],
   "source": [
    "#Question 128\n",
    "\n",
    "#Ans is (c)"
   ]
  },
  {
   "cell_type": "code",
   "execution_count": null,
   "metadata": {},
   "outputs": [],
   "source": [
    "#Question 129\n",
    "\n",
    "#Ans is (a)"
   ]
  },
  {
   "cell_type": "code",
   "execution_count": null,
   "metadata": {},
   "outputs": [],
   "source": [
    "#Question 130\n",
    "\n",
    "#Ans is (a)"
   ]
  },
  {
   "cell_type": "code",
   "execution_count": null,
   "metadata": {},
   "outputs": [],
   "source": [
    "#Question 131\n",
    "\n",
    "#Ans is (a)"
   ]
  },
  {
   "cell_type": "code",
   "execution_count": null,
   "metadata": {},
   "outputs": [],
   "source": [
    "#Question 132\n",
    "\n",
    "#Ans is (a)"
   ]
  },
  {
   "cell_type": "code",
   "execution_count": null,
   "metadata": {},
   "outputs": [],
   "source": [
    "#Question 133\n",
    "\n",
    "#Ans is (a)"
   ]
  },
  {
   "cell_type": "code",
   "execution_count": null,
   "metadata": {},
   "outputs": [],
   "source": [
    "#Question 134\n",
    "\n",
    "#Ans is (a)"
   ]
  },
  {
   "cell_type": "code",
   "execution_count": null,
   "metadata": {},
   "outputs": [],
   "source": [
    "#Question 135\n",
    "\n",
    "#Ans is (c)"
   ]
  },
  {
   "cell_type": "code",
   "execution_count": null,
   "metadata": {},
   "outputs": [],
   "source": [
    "#Question 136\n",
    "\n",
    "#Ans is (b)"
   ]
  },
  {
   "cell_type": "code",
   "execution_count": null,
   "metadata": {},
   "outputs": [],
   "source": [
    "#Question 137\n",
    "\n",
    "#Ans is (b)"
   ]
  },
  {
   "cell_type": "code",
   "execution_count": null,
   "metadata": {},
   "outputs": [],
   "source": [
    "#Question 138\n",
    "\n",
    "#Ans is (a)"
   ]
  },
  {
   "cell_type": "code",
   "execution_count": null,
   "metadata": {},
   "outputs": [],
   "source": [
    "#Question 139\n",
    "\n",
    "#Ans is (b)"
   ]
  },
  {
   "cell_type": "code",
   "execution_count": null,
   "metadata": {},
   "outputs": [],
   "source": [
    "#Question 140\n",
    "\n",
    "#Ans is (a)"
   ]
  },
  {
   "cell_type": "code",
   "execution_count": null,
   "metadata": {},
   "outputs": [],
   "source": [
    "#Question 141\n",
    "\n",
    "#Ans is (b)"
   ]
  },
  {
   "cell_type": "code",
   "execution_count": null,
   "metadata": {},
   "outputs": [],
   "source": [
    "#Question 142\n",
    "\n",
    "#Ans is (d)"
   ]
  },
  {
   "cell_type": "code",
   "execution_count": null,
   "metadata": {},
   "outputs": [],
   "source": [
    "#Question 143\n",
    "\n",
    "#Ans is (d)"
   ]
  },
  {
   "cell_type": "code",
   "execution_count": null,
   "metadata": {},
   "outputs": [],
   "source": [
    "#Question 144\n",
    "\n",
    "#Ans is (a)"
   ]
  },
  {
   "cell_type": "code",
   "execution_count": null,
   "metadata": {},
   "outputs": [],
   "source": [
    "#Queation 145\n",
    "\n",
    "#Ans is (a)"
   ]
  },
  {
   "cell_type": "code",
   "execution_count": null,
   "metadata": {},
   "outputs": [],
   "source": [
    "#Question 146\n",
    "\n",
    "#Ans is (a)"
   ]
  },
  {
   "cell_type": "code",
   "execution_count": null,
   "metadata": {},
   "outputs": [],
   "source": [
    "#Question 147\n",
    "\n",
    "#Ans is (b)"
   ]
  },
  {
   "cell_type": "code",
   "execution_count": null,
   "metadata": {},
   "outputs": [],
   "source": [
    "#Question 148\n",
    "\n",
    "#Ans is (a)"
   ]
  },
  {
   "cell_type": "code",
   "execution_count": null,
   "metadata": {},
   "outputs": [],
   "source": [
    "#Question 149\n",
    "\n",
    "#Ans is (b)"
   ]
  },
  {
   "cell_type": "code",
   "execution_count": null,
   "metadata": {},
   "outputs": [],
   "source": [
    "#Question 150\n",
    "\n",
    "#Ans is (a)"
   ]
  }
 ],
 "metadata": {
  "kernelspec": {
   "display_name": "Python 3",
   "language": "python",
   "name": "python3"
  },
  "language_info": {
   "codemirror_mode": {
    "name": "ipython",
    "version": 3
   },
   "file_extension": ".py",
   "mimetype": "text/x-python",
   "name": "python",
   "nbconvert_exporter": "python",
   "pygments_lexer": "ipython3",
   "version": "3.7.4"
  }
 },
 "nbformat": 4,
 "nbformat_minor": 2
}
