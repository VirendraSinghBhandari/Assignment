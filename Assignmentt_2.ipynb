{
 "cells": [
  {
   "cell_type": "code",
   "execution_count": 4,
   "metadata": {},
   "outputs": [],
   "source": [
    "#reduce fundtion \n",
    "def myreduce(function, sequence):\n",
    "    list = sequence[0]\n",
    "    for i in sequence[1:]:\n",
    "        list = function(list,i)\n",
    "        return list\n",
    "        "
   ]
  },
  {
   "cell_type": "code",
   "execution_count": 5,
   "metadata": {},
   "outputs": [],
   "source": [
    "def sum(x,y):\n",
    "    return x+y\n"
   ]
  },
  {
   "cell_type": "code",
   "execution_count": 7,
   "metadata": {},
   "outputs": [
    {
     "name": "stdout",
     "output_type": "stream",
     "text": [
      "11\n"
     ]
    }
   ],
   "source": [
    "number= sum(5,6)\n",
    "print(number)"
   ]
  },
  {
   "cell_type": "code",
   "execution_count": 10,
   "metadata": {},
   "outputs": [
    {
     "name": "stdout",
     "output_type": "stream",
     "text": [
      "sum of using custom function 11\n"
     ]
    }
   ],
   "source": [
    "print(\"sum of using custom function \"+ str(myreduce(sum,[5,6])))"
   ]
  },
  {
   "cell_type": "code",
   "execution_count": 35,
   "metadata": {},
   "outputs": [],
   "source": [
    "#filter function\n",
    "def myfilter(function, sequence):\n",
    "    list = []\n",
    "    for i in sequence:\n",
    "        if function(i):\n",
    "            list.append(i)\n",
    "    return list    "
   ]
  },
  {
   "cell_type": "code",
   "execution_count": 29,
   "metadata": {},
   "outputs": [],
   "source": [
    "def is_even(n):\n",
    "    if (n%2==0):\n",
    "        return True"
   ]
  },
  {
   "cell_type": "code",
   "execution_count": 36,
   "metadata": {},
   "outputs": [
    {
     "data": {
      "text/plain": [
       "[2, 8, 6]"
      ]
     },
     "execution_count": 36,
     "metadata": {},
     "output_type": "execute_result"
    }
   ],
   "source": [
    "list = [1,2,5,7,8,6]\n",
    "(myfilter(is_even,list))"
   ]
  },
  {
   "cell_type": "code",
   "execution_count": 91,
   "metadata": {},
   "outputs": [
    {
     "name": "stdout",
     "output_type": "stream",
     "text": [
      "['A', 'C', 'A', 'D', 'G', 'I', 'L', 'D']\n"
     ]
    }
   ],
   "source": [
    "#Task 1 question 2\n",
    "string = \"ACADGILD\"\n",
    "string_list = [x for x in string]\n",
    "print(string_list)"
   ]
  },
  {
   "cell_type": "code",
   "execution_count": 99,
   "metadata": {},
   "outputs": [
    {
     "name": "stdout",
     "output_type": "stream",
     "text": [
      "['x', 'xx', 'xxx', 'xxxx', 'y', 'yy', 'yyy', 'yyyy', 'z', 'zz', 'zzz', 'zzzz']\n"
     ]
    }
   ],
   "source": [
    "string = ['x','y','z']\n",
    "string_list = [i*n for i in string for n in range(1,5)]\n",
    "print(string_list)"
   ]
  },
  {
   "cell_type": "code",
   "execution_count": 105,
   "metadata": {},
   "outputs": [
    {
     "name": "stdout",
     "output_type": "stream",
     "text": [
      "['x', 'y', 'z', 'xx', 'yy', 'zz', 'xxx', 'yyy', 'zzz', 'xxxx', 'yyyy', 'zzzz']\n"
     ]
    }
   ],
   "source": [
    "string = ['x','y','z']\n",
    "string_list = [i*n for n in range(1,5) for i in string ]\n",
    "print(string_list)"
   ]
  },
  {
   "cell_type": "code",
   "execution_count": 2,
   "metadata": {},
   "outputs": [
    {
     "name": "stdout",
     "output_type": "stream",
     "text": [
      "[[2], [3], [4], [3], [4], [5], [4], [5], [6]]\n"
     ]
    }
   ],
   "source": [
    "num= [2,3,4]\n",
    "num_list = [[i+n] for i in num for n in range(0,3)]\n",
    "print(num_list)"
   ]
  },
  {
   "cell_type": "code",
   "execution_count": 3,
   "metadata": {},
   "outputs": [
    {
     "name": "stdout",
     "output_type": "stream",
     "text": [
      "[[2, 3, 4, 5], [3, 4, 5, 6], [4, 5, 6, 7], [5, 6, 7, 8]]\n"
     ]
    }
   ],
   "source": [
    "num = [2,3,4,5]\n",
    "num_list = [[i+n for i in num] for n in range(0,4)]\n",
    "print(num_list)"
   ]
  },
  {
   "cell_type": "code",
   "execution_count": 4,
   "metadata": {},
   "outputs": [
    {
     "name": "stdout",
     "output_type": "stream",
     "text": [
      "[(1, 1), (2, 1), (3, 1), (1, 2), (2, 2), (3, 2), (1, 3), (2, 3), (3, 3)]\n"
     ]
    }
   ],
   "source": [
    "num = [1,2,3]\n",
    "num_list = [(b,a) for a in num for b in num]\n",
    "print(num_list)"
   ]
  },
  {
   "cell_type": "code",
   "execution_count": 11,
   "metadata": {},
   "outputs": [],
   "source": [
    "#find longest string in a sentance \n",
    "def longestWord(string):\n",
    "    tokens = string.split();\n",
    "    max_length = 0;\n",
    "    max_word=\"\";\n",
    "    for token in tokens:\n",
    "        if len(token)>max_length:\n",
    "            max_length = len(token)\n",
    "            max_word = token\n",
    "    return max_word;"
   ]
  },
  {
   "cell_type": "code",
   "execution_count": 12,
   "metadata": {},
   "outputs": [
    {
     "name": "stdout",
     "output_type": "stream",
     "text": [
      "student\n"
     ]
    }
   ],
   "source": [
    "string = \"I am a student of ineuron\"\n",
    "print(longestWord(string))"
   ]
  },
  {
   "cell_type": "code",
   "execution_count": 26,
   "metadata": {},
   "outputs": [
    {
     "name": "stdout",
     "output_type": "stream",
     "text": [
      "Enter a value of a = 13\n",
      "Enter a value of b = 14\n",
      "Enter a value of C = 16\n",
      "area 86.82417578071214 \n"
     ]
    }
   ],
   "source": [
    "# find area of triangle using class concept\n",
    "class Triangle:\n",
    "    def __init__(self, a, b, c):\n",
    "        self.a = float(a)\n",
    "        self.b = float(b)\n",
    "        self.c = float(c)\n",
    "\n",
    "    def area(self):\n",
    "        s = (self.a + self.b + self.c)/2\n",
    "        return((s*(s-self.a)*(s-self.b)*(s-self.c))**0.5)\n",
    "  \n",
    "a = input(\"Enter a value of a = \")\n",
    "b = input(\"Enter a value of b = \")\n",
    "c = input(\"Enter a value of C = \")\n",
    "t = Triangle(a,b,c)\n",
    "print(\"area {} \".format(t.area()))"
   ]
  },
  {
   "cell_type": "code",
   "execution_count": 12,
   "metadata": {},
   "outputs": [
    {
     "name": "stdout",
     "output_type": "stream",
     "text": [
      "<generator object filter_long_word.<locals>.<genexpr> at 0x0000018042335048>\n"
     ]
    }
   ],
   "source": [
    "# Filter long word"
   ]
  },
  {
   "cell_type": "code",
   "execution_count": 36,
   "metadata": {},
   "outputs": [],
   "source": [
    "# filter_long_function\n",
    "#def filter_long_word(words, n):\n",
    " #   return(word for word in words if word > n)\n",
    "\n",
    "#print(str(filter_long_word([\"test\",\"Indian Team\", \"Ineuron\", \"Sudhanshu\"],7)))\n",
    "\n",
    "def filter_long_word(words, n):\n",
    "    ListOfWord = []\n",
    "    for i in range(len(words)):\n",
    "        if len(words[i]) > n:\n",
    "            ListOfWord.append(words[i])\n",
    "            return ListOfWord\n"
   ]
  },
  {
   "cell_type": "code",
   "execution_count": 41,
   "metadata": {},
   "outputs": [
    {
     "name": "stdout",
     "output_type": "stream",
     "text": [
      "['Bhartiyata']\n"
     ]
    }
   ],
   "source": [
    "ListOfWord = ['Indian', 'Bhartiyata', 'National', 'Ineuron']\n",
    "inputlength = 9\n",
    "print(str(filter_long_word(ListOfWord,inputlength)))"
   ]
  },
  {
   "cell_type": "code",
   "execution_count": 49,
   "metadata": {},
   "outputs": [],
   "source": [
    "# Map function\n",
    "#def Map_of_length(words):\n",
    "#    return map(len, words)\n",
    "\n",
    "def Map_length(words):\n",
    "    length = []\n",
    "    for i in words:\n",
    "        length.append(len(i))\n",
    "        return length"
   ]
  },
  {
   "cell_type": "code",
   "execution_count": 50,
   "metadata": {},
   "outputs": [
    {
     "data": {
      "text/plain": [
       "[2, 3, 4]"
      ]
     },
     "execution_count": 50,
     "metadata": {},
     "output_type": "execute_result"
    }
   ],
   "source": [
    "words = ['aa', 'bbb', 'cccc']\n",
    "list(map(len,words))"
   ]
  },
  {
   "cell_type": "code",
   "execution_count": 58,
   "metadata": {},
   "outputs": [],
   "source": [
    "# Check vowel wirh function concept\n",
    "def Is_vowel(char):\n",
    "    vowel = ['a','e','i','o','u']\n",
    "    if char not in vowel:\n",
    "        return False\n",
    "    return True \n"
   ]
  },
  {
   "cell_type": "code",
   "execution_count": 63,
   "metadata": {},
   "outputs": [
    {
     "name": "stdout",
     "output_type": "stream",
     "text": [
      "True\n"
     ]
    }
   ],
   "source": [
    "print(Is_vowel('a'))"
   ]
  },
  {
   "cell_type": "code",
   "execution_count": null,
   "metadata": {},
   "outputs": [],
   "source": []
  }
 ],
 "metadata": {
  "kernelspec": {
   "display_name": "Python 3",
   "language": "python",
   "name": "python3"
  },
  "language_info": {
   "codemirror_mode": {
    "name": "ipython",
    "version": 3
   },
   "file_extension": ".py",
   "mimetype": "text/x-python",
   "name": "python",
   "nbconvert_exporter": "python",
   "pygments_lexer": "ipython3",
   "version": "3.7.4"
  }
 },
 "nbformat": 4,
 "nbformat_minor": 2
}
